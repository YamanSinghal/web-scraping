{
 "cells": [
  {
   "cell_type": "code",
   "execution_count": 1,
   "metadata": {},
   "outputs": [],
   "source": [
    "from selenium import webdriver\n",
    "from selenium.webdriver.common.keys import Keys\n",
    "from selenium.webdriver.common.action_chains import ActionChains\n",
    "from tqdm import tqdm\n",
    "driver = webdriver.Chrome(\"F:/chromedriver.exe\")\n",
    "driver.maximize_window()\n",
    "driver.get(\"https://webscraper.io/test-sites/e-commerce/static\")"
   ]
  },
  {
   "cell_type": "code",
   "execution_count": 2,
   "metadata": {},
   "outputs": [],
   "source": [
    "from tqdm import tqdm"
   ]
  },
  {
   "cell_type": "code",
   "execution_count": 3,
   "metadata": {},
   "outputs": [],
   "source": [
    "driver.find_element_by_xpath('//*[@id=\"side-menu\"]/li[3]/a').click()"
   ]
  },
  {
   "cell_type": "code",
   "execution_count": 4,
   "metadata": {},
   "outputs": [],
   "source": [
    "driver.find_element_by_xpath('//*[@id=\"side-menu\"]/li[3]/ul/li/a').click()"
   ]
  },
  {
   "cell_type": "code",
   "execution_count": 5,
   "metadata": {},
   "outputs": [],
   "source": [
    "all_details = []\n",
    "links = []"
   ]
  },
  {
   "cell_type": "code",
   "execution_count": 6,
   "metadata": {},
   "outputs": [],
   "source": [
    "for i in range(1,3):\n",
    "    driver.get(\"https://webscraper.io/test-sites/e-commerce/static/phones/touch?page={no}\".format(no = i))\n",
    "    ele = driver.find_elements_by_class_name('title')\n",
    "    for i in range(len(ele)):\n",
    "        links.append(ele[i].get_property(\"href\"))\n"
   ]
  },
  {
   "cell_type": "code",
   "execution_count": 7,
   "metadata": {},
   "outputs": [
    {
     "name": "stderr",
     "output_type": "stream",
     "text": [
      "100%|████████████████████████████████████████████████████████████████████████████████████| 9/9 [00:13<00:00,  1.42s/it]\n"
     ]
    }
   ],
   "source": [
    " for i in tqdm(links):\n",
    "    driver.get(i)\n",
    "    name = driver.find_element_by_xpath(\"/html/body/div[1]/div[3]/div/div[2]/div/div/div[2]/div[1]/h4[2]\").text\n",
    "    price = driver.find_element_by_xpath(\"/html/body/div[1]/div[3]/div/div[2]/div/div/div[2]/div[1]/h4[1]\").text\n",
    "    review = driver.find_element_by_xpath(\"/html/body/div[1]/div[3]/div/div[2]/div/div/div[2]/div[3]/p\").text\n",
    "    description = driver.find_element_by_xpath('/html/body/div[1]/div[3]/div/div[2]/div/div/div[2]/div[1]/p').text\n",
    "\n",
    "    dict = {\"name\":name,\n",
    "                   \"price\":price,\n",
    "                   \"description\":description,\n",
    "                   \"review\":review}\n",
    "    all_details.append(dict)\n",
    "    \n",
    "driver.close()\n",
    "driver.quit()"
   ]
  },
  {
   "cell_type": "code",
   "execution_count": 8,
   "metadata": {},
   "outputs": [
    {
     "data": {
      "text/html": [
       "<div>\n",
       "<style scoped>\n",
       "    .dataframe tbody tr th:only-of-type {\n",
       "        vertical-align: middle;\n",
       "    }\n",
       "\n",
       "    .dataframe tbody tr th {\n",
       "        vertical-align: top;\n",
       "    }\n",
       "\n",
       "    .dataframe thead th {\n",
       "        text-align: right;\n",
       "    }\n",
       "</style>\n",
       "<table border=\"1\" class=\"dataframe\">\n",
       "  <thead>\n",
       "    <tr style=\"text-align: right;\">\n",
       "      <th></th>\n",
       "      <th>description</th>\n",
       "      <th>name</th>\n",
       "      <th>price</th>\n",
       "      <th>review</th>\n",
       "    </tr>\n",
       "  </thead>\n",
       "  <tbody>\n",
       "    <tr>\n",
       "      <th>0</th>\n",
       "      <td>7 day battery</td>\n",
       "      <td>Nokia 123</td>\n",
       "      <td>$24.99</td>\n",
       "      <td>11 reviews</td>\n",
       "    </tr>\n",
       "    <tr>\n",
       "      <th>1</th>\n",
       "      <td>3.2\" screen</td>\n",
       "      <td>LG Optimus</td>\n",
       "      <td>$57.99</td>\n",
       "      <td>11 reviews</td>\n",
       "    </tr>\n",
       "    <tr>\n",
       "      <th>2</th>\n",
       "      <td>5 mpx. Android 5.0</td>\n",
       "      <td>Samsung Galaxy</td>\n",
       "      <td>$93.99</td>\n",
       "      <td>3 reviews</td>\n",
       "    </tr>\n",
       "    <tr>\n",
       "      <th>3</th>\n",
       "      <td>Andoid, Jolla dualboot</td>\n",
       "      <td>Nokia X</td>\n",
       "      <td>$109.99</td>\n",
       "      <td>4 reviews</td>\n",
       "    </tr>\n",
       "    <tr>\n",
       "      <th>4</th>\n",
       "      <td>GPS, waterproof</td>\n",
       "      <td>Sony Xperia</td>\n",
       "      <td>$118.99</td>\n",
       "      <td>6 reviews</td>\n",
       "    </tr>\n",
       "  </tbody>\n",
       "</table>\n",
       "</div>"
      ],
      "text/plain": [
       "              description            name    price      review\n",
       "0           7 day battery       Nokia 123   $24.99  11 reviews\n",
       "1             3.2\" screen      LG Optimus   $57.99  11 reviews\n",
       "2      5 mpx. Android 5.0  Samsung Galaxy   $93.99   3 reviews\n",
       "3  Andoid, Jolla dualboot         Nokia X  $109.99   4 reviews\n",
       "4         GPS, waterproof     Sony Xperia  $118.99   6 reviews"
      ]
     },
     "execution_count": 8,
     "metadata": {},
     "output_type": "execute_result"
    }
   ],
   "source": [
    "import pandas as pd\n",
    "data = pd.DataFrame(all_details)\n",
    "data.head()"
   ]
  }
 ],
 "metadata": {
  "kernelspec": {
   "display_name": "Python 3",
   "language": "python",
   "name": "python3"
  },
  "language_info": {
   "codemirror_mode": {
    "name": "ipython",
    "version": 3
   },
   "file_extension": ".py",
   "mimetype": "text/x-python",
   "name": "python",
   "nbconvert_exporter": "python",
   "pygments_lexer": "ipython3",
   "version": "3.7.0"
  }
 },
 "nbformat": 4,
 "nbformat_minor": 2
}
