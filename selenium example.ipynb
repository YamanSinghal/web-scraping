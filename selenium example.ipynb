{
 "cells": [
  {
   "cell_type": "code",
   "execution_count": 2,
   "metadata": {},
   "outputs": [],
   "source": [
    "from selenium import webdriver\n",
    "from selenium.webdriver.common.keys import Keys\n",
    "from selenium.webdriver.common.action_chains import ActionChains\n",
    "from tqdm import tqdm"
   ]
  },
  {
   "cell_type": "code",
   "execution_count": 3,
   "metadata": {},
   "outputs": [],
   "source": [
    "driver = webdriver.Chrome(\"F:/chromedriver.exe\")\n",
    "driver.maximize_window()\n",
    "driver.get(\"https://webscraper.io/test-sites/e-commerce/allinone\")\n",
    "driver.implicitly_wait(50)\n",
    "driver.maximize_window()\n",
    "driver.find_element_by_xpath('//*[@id=\"side-menu\"]/li[2]/a').click()\n",
    "driver.find_element_by_xpath('//*[@id=\"side-menu\"]/li[2]/ul/li[1]/a').click()\n",
    "ele = driver.find_elements_by_class_name('title')"
   ]
  },
  {
   "cell_type": "code",
   "execution_count": 4,
   "metadata": {},
   "outputs": [],
   "source": [
    "link = []\n",
    "all_details = []\n",
    "for i in range(20):\n",
    "    l = ele[i].get_property(\"href\")\n",
    "    link.append(l)\n",
    "\n"
   ]
  },
  {
   "cell_type": "code",
   "execution_count": 5,
   "metadata": {},
   "outputs": [
    {
     "name": "stderr",
     "output_type": "stream",
     "text": [
      "100%|██████████████████████████████████████████████████████████████████████████████████| 20/20 [01:06<00:00,  5.93s/it]\n"
     ]
    }
   ],
   "source": [
    "for i in tqdm(link):\n",
    "    driver.get(i)\n",
    "    name = driver.find_element_by_xpath('/html/body/div[1]/div[3]/div/div[2]/div/div/div[2]/div[1]/h4[2]').text\n",
    "    price = driver.find_element_by_xpath('/html/body/div[1]/div[3]/div/div[2]/div/div/div[2]/div[1]/h4[1]').text\n",
    "    des = driver.find_element_by_xpath('/html/body/div[1]/div[3]/div/div[2]/div/div/div[2]/div[1]/p').text\n",
    "    ra = driver.find_element_by_xpath('/html/body/div[1]/div[3]/div/div[2]/div/div/div[2]/div[3]/p').text\n",
    "    dict = {\"Product_Name\":name,\n",
    "            \"Price\":price,\n",
    "            \"Description\":des,\n",
    "            \"Ratings\":ra}\n",
    "    all_details.append(dict)\n"
   ]
  },
  {
   "cell_type": "code",
   "execution_count": 6,
   "metadata": {},
   "outputs": [
    {
     "name": "stdout",
     "output_type": "stream",
     "text": [
      "                                         Description    Price  \\\n",
      "0  Asus VivoBook X441NA-GA190 Chocolate Black, 14...  $295.99   \n",
      "1  Prestigio SmartBook 133S Dark Grey, 13.3\" FHD ...  $299.00   \n",
      "2  Prestigio SmartBook 133S Gold, 13.3\" FHD IPS, ...  $299.00   \n",
      "3    15.6\", Pentium N3520 2.16GHz, 4GB, 500GB, Linux  $306.99   \n",
      "4  Lenovo V110-15IAP, 15.6\" HD, Celeron N3350 1.1...  $321.94   \n",
      "\n",
      "                         Product_Name     Ratings  \n",
      "0          Asus VivoBook X441NA-GA190  14 reviews  \n",
      "1  Prestigio SmartBook 133S Dark Grey   8 reviews  \n",
      "2       Prestigio SmartBook 133S Gold  12 reviews  \n",
      "3                       Aspire E1-510   2 reviews  \n",
      "4                   Lenovo V110-15IAP   5 reviews  \n"
     ]
    }
   ],
   "source": [
    "import pandas as pd\n",
    "data = pd.DataFrame(all_details)\n",
    "driver.close()\n",
    "driver.quit()"
   ]
  },
  {
   "cell_type": "code",
   "execution_count": 7,
   "metadata": {},
   "outputs": [
    {
     "data": {
      "text/html": [
       "<div>\n",
       "<style scoped>\n",
       "    .dataframe tbody tr th:only-of-type {\n",
       "        vertical-align: middle;\n",
       "    }\n",
       "\n",
       "    .dataframe tbody tr th {\n",
       "        vertical-align: top;\n",
       "    }\n",
       "\n",
       "    .dataframe thead th {\n",
       "        text-align: right;\n",
       "    }\n",
       "</style>\n",
       "<table border=\"1\" class=\"dataframe\">\n",
       "  <thead>\n",
       "    <tr style=\"text-align: right;\">\n",
       "      <th></th>\n",
       "      <th>Description</th>\n",
       "      <th>Price</th>\n",
       "      <th>Product_Name</th>\n",
       "      <th>Ratings</th>\n",
       "    </tr>\n",
       "  </thead>\n",
       "  <tbody>\n",
       "    <tr>\n",
       "      <th>0</th>\n",
       "      <td>Asus VivoBook X441NA-GA190 Chocolate Black, 14...</td>\n",
       "      <td>$295.99</td>\n",
       "      <td>Asus VivoBook X441NA-GA190</td>\n",
       "      <td>14 reviews</td>\n",
       "    </tr>\n",
       "    <tr>\n",
       "      <th>1</th>\n",
       "      <td>Prestigio SmartBook 133S Dark Grey, 13.3\" FHD ...</td>\n",
       "      <td>$299.00</td>\n",
       "      <td>Prestigio SmartBook 133S Dark Grey</td>\n",
       "      <td>8 reviews</td>\n",
       "    </tr>\n",
       "    <tr>\n",
       "      <th>2</th>\n",
       "      <td>Prestigio SmartBook 133S Gold, 13.3\" FHD IPS, ...</td>\n",
       "      <td>$299.00</td>\n",
       "      <td>Prestigio SmartBook 133S Gold</td>\n",
       "      <td>12 reviews</td>\n",
       "    </tr>\n",
       "    <tr>\n",
       "      <th>3</th>\n",
       "      <td>15.6\", Pentium N3520 2.16GHz, 4GB, 500GB, Linux</td>\n",
       "      <td>$306.99</td>\n",
       "      <td>Aspire E1-510</td>\n",
       "      <td>2 reviews</td>\n",
       "    </tr>\n",
       "    <tr>\n",
       "      <th>4</th>\n",
       "      <td>Lenovo V110-15IAP, 15.6\" HD, Celeron N3350 1.1...</td>\n",
       "      <td>$321.94</td>\n",
       "      <td>Lenovo V110-15IAP</td>\n",
       "      <td>5 reviews</td>\n",
       "    </tr>\n",
       "  </tbody>\n",
       "</table>\n",
       "</div>"
      ],
      "text/plain": [
       "                                         Description    Price  \\\n",
       "0  Asus VivoBook X441NA-GA190 Chocolate Black, 14...  $295.99   \n",
       "1  Prestigio SmartBook 133S Dark Grey, 13.3\" FHD ...  $299.00   \n",
       "2  Prestigio SmartBook 133S Gold, 13.3\" FHD IPS, ...  $299.00   \n",
       "3    15.6\", Pentium N3520 2.16GHz, 4GB, 500GB, Linux  $306.99   \n",
       "4  Lenovo V110-15IAP, 15.6\" HD, Celeron N3350 1.1...  $321.94   \n",
       "\n",
       "                         Product_Name     Ratings  \n",
       "0          Asus VivoBook X441NA-GA190  14 reviews  \n",
       "1  Prestigio SmartBook 133S Dark Grey   8 reviews  \n",
       "2       Prestigio SmartBook 133S Gold  12 reviews  \n",
       "3                       Aspire E1-510   2 reviews  \n",
       "4                   Lenovo V110-15IAP   5 reviews  "
      ]
     },
     "execution_count": 7,
     "metadata": {},
     "output_type": "execute_result"
    }
   ],
   "source": [
    "data.head()"
   ]
  },
  {
   "cell_type": "code",
   "execution_count": null,
   "metadata": {},
   "outputs": [],
   "source": []
  }
 ],
 "metadata": {
  "kernelspec": {
   "display_name": "Python 3",
   "language": "python",
   "name": "python3"
  },
  "language_info": {
   "codemirror_mode": {
    "name": "ipython",
    "version": 3
   },
   "file_extension": ".py",
   "mimetype": "text/x-python",
   "name": "python",
   "nbconvert_exporter": "python",
   "pygments_lexer": "ipython3",
   "version": "3.7.0"
  }
 },
 "nbformat": 4,
 "nbformat_minor": 2
}
